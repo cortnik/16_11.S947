{
 "cells": [
  {
   "cell_type": "markdown",
   "metadata": {
    "slideshow": {
     "slide_type": "slide"
    }
   },
   "source": [
    "Big Data And Society: Lab 3\n",
    "=====\n"
   ]
  },
  {
   "cell_type": "markdown",
   "metadata": {},
   "source": [
    "# Data Scraping"
   ]
  },
  {
   "cell_type": "markdown",
   "metadata": {},
   "source": [
    "### 0. Importing the library\n",
    "\n",
    "First we need to import the libraries, and some of their components. We will be using **Twython**, a library that provides wrappers around Twitter's API. To install **Twython** on a terminal or the command line, run the following command:\n",
    "```\n",
    "pip install twython\n",
    "```\n",
    "\n",
    "We also need to create a Python file that will contain the **Twitter** keys. It is never a good idea to host these keys on a public website like **github**, so one way to keep them private is importing the keys as a variable from a separate, untracked file. If you haven’t done so, at this point you should obtain your twitter API keys. Create a python file on the same directory of your **IPython** notebook, and name it: **`twitter_key.py`**.\n",
    "\n",
    "```\n",
    "# In the file you should define two variables:\n",
    "t_key = ‘your twitter key’\n",
    "t_secret = ‘your twitter secret’\n",
    "```\n",
    "\n",
    "Get your Twitter key and secret code on the [Twitter Apps site](https://apps.twitter.com/). You will need to create an application, it doesn't matter what you call it, to get your key and secret code. Once your application is created, you will find your keys on the **Keys and Access Tokens** tab of your application."
   ]
  },
  {
   "cell_type": "code",
   "execution_count": null,
   "metadata": {
    "collapsed": false
   },
   "outputs": [],
   "source": [
    "# import json\n",
    "# import time\n",
    "# import threading\n",
    "\n",
    "# from datetime import datetime\n",
    "# from twython import Twython\n",
    "\n",
    "# # Imports the keys from the python file\n",
    "# from twitter_key import t_key, t_secret\n"
   ]
  },
  {
   "cell_type": "markdown",
   "metadata": {},
   "source": [
    "### 1. Query the Twitter API\n",
    "Now we are going to construct a **Twython** object; this object simplifies the access to the [Twitter API](https://dev.twitter.com/overview/documentation), and provides methods for accessing the API’s endpoints. The first function fetches tweets with a given query at a given lat-long. We will be using the search parameters to hit the APIs endpoint. We need to provide the lat/lon of the centroid of the area we want to query, maximum number of tweets to return, and area within the centroid to search for, among others. \n",
    "\n",
    "Additional documentation of the Twython API can be found [here]( https://twython.readthedocs.org/en/latest/)\n"
   ]
  },
  {
   "cell_type": "code",
   "execution_count": null,
   "metadata": {
    "collapsed": false
   },
   "outputs": [],
   "source": [
    "# # Assigns the keys to the variables\n",
    "# APP_KEY = t_key\n",
    "# APP_SECRET = t_secret\n",
    "\n",
    "# # Setup a Lat Lon\n",
    "# latlong = [24.6333, 46.7167]\n",
    "\n",
    "# ''' Fetches tweets with a given query at a given lat-long.'''\n",
    "# def get_tweets( latlong=None ):\n",
    "#     # Creates a Twithon object with the given keys\n",
    "#     twitter = Twython( APP_KEY, APP_SECRET )\n",
    "#     # Uses the search function to hit the APIs endpoints and look for recent tweets within the area\n",
    "#     results = twitter.search( geocode=','.join([ str(x) for x in latlong ]) + ',15km', result_type='recent', count=10000)\n",
    "#     # Returns the only the statuses from the resulting JSON\n",
    "#     return results['statuses']"
   ]
  },
  {
   "cell_type": "markdown",
   "metadata": {},
   "source": [
    "### 2. Hit the API and Parse the Result\n",
    "We are going to create a function to help us repeatedly hit the API, and parse the result into a readable JSON that contains the things that we are interested in, and still stores the raw tweet as an additional property. The returned object is a Python `dict` that we can easily parse into another dictionary to later store as a JSON. Raw JSONs returned from the API have a specific structure. It can be sometimes hard to read a raw JSON. I find it easy to use some online parses like [this]( http://json.parser.online.fr/) to look at the structure of the JSON, and only access what we care about. \n"
   ]
  },
  {
   "cell_type": "code",
   "execution_count": null,
   "metadata": {
    "collapsed": true
   },
   "outputs": [],
   "source": [
    "# \"\"\" Does pretty much what its long name suggests. \"\"\"\n",
    "# def get_lots_of_tweets( latlong ):\n",
    "#     # Create a dictionary to parse the JSON\n",
    "#     all_tweets = {}\n",
    "    \n",
    "#     # We will be hitting the API a number of times within the total time\n",
    "#     total_time = 120\n",
    "#     # Everytime we hit the API we subtract time from the total\n",
    "#     remaining_seconds = total_time\n",
    "#     interval = 30 \n",
    "#     while remaining_seconds > 0:\n",
    "#         added = 0\n",
    "#         # We hit the Twitter API\n",
    "#         new_tweets = get_tweets( latlong )\n",
    "#         # We parse the resulting JSON, and save the rest of the raw content\n",
    "#         for tweet in new_tweets:\n",
    "#             tid = tweet['id']\n",
    "#             if tid not in all_tweets and tweet['coordinates'] != None:\n",
    "#                 properties = {}\n",
    "#                 properties['lat'] = tweet['coordinates']['coordinates'][1]\n",
    "#                 properties['lon'] = tweet['coordinates']['coordinates'][0]\n",
    "#                 properties['tweet_id'] = tid\n",
    "#                 properties['content'] = tweet['text']\n",
    "#                 properties['user'] = tweet['user']['id']\n",
    "#                 properties['user_location'] = tweet['user']['location']\n",
    "#                 properties['raw_source'] = tweet\n",
    "#                 properties['data_point'] = 'none'\n",
    "#                 properties['time'] = tweet['created_at']\n",
    "#                 all_tweets[ tid ] = properties\n",
    "#                 added += 1\n",
    "#         print \"At %d seconds, added %d new tweets, for a total of %d\" % ( total_time - remaining_seconds, added, len( all_tweets ) )\n",
    "#         # We wait a few seconds and hit the API again\n",
    "#         time.sleep(interval)\n",
    "#         remaining_seconds -= interval\n",
    "#     # We return the final dictionary\n",
    "#     return all_tweets"
   ]
  },
  {
   "cell_type": "markdown",
   "metadata": {},
   "source": [
    "### 3. Run the Functions\n",
    "\n",
    "We need to call the functions, and save the JSONs into a location. In this case, I made a folder called `twitter`, where I a m saving all the new JSONS. We can run the code continuously utilizing some loop, or we can use libraries like `threading`. \n"
   ]
  },
  {
   "cell_type": "code",
   "execution_count": null,
   "metadata": {
    "collapsed": false
   },
   "outputs": [],
   "source": [
    "# '''This function executes the rest of the functions over a given period of time'''\n",
    "# def run():\n",
    "#     # This is the number of times the code will be executed. In this case, just once. \n",
    "#     starting = 1\n",
    "#     while starting > 0:\n",
    "#         # Sometimes the API returns some errors, killing the whole script, so we setup try/except to make sure it keeps running\n",
    "#         try:\n",
    "#             # We define a centroid in Riyadh\n",
    "#             latlong = [24.6333, 46.7167]\n",
    "#             t = get_lots_of_tweets( latlong )\n",
    "#             # We name every file with the current time\n",
    "#             timestr = time.strftime(\"%Y%m%d-%H%M%S\")\n",
    "#             # We write a new JSON into the target path\n",
    "#             with open( '%stweets.json' %(timestr), 'w' ) as f:\n",
    "#                 f.write( json.dumps(t))\n",
    "#             # we can use a library like threading to execute the run function continuously.\n",
    "#             #threading.Timer(10, run).start()\n",
    "#             starting -= 1\n",
    "#         except:\n",
    "#             pass    \n",
    "# run()"
   ]
  },
  {
   "cell_type": "markdown",
   "metadata": {},
   "source": [
    "### 4. Parse the JSONs\n",
    "Once we have collected some data, we can parse it, and visualize some of the results. Since some of the data is repeated, we can initialize some lists to check whether or not a tweet already exists, and add it to the list. We can then extract the useful information for our purposes, and store it in another list.\n"
   ]
  },
  {
   "cell_type": "code",
   "execution_count": null,
   "metadata": {
    "collapsed": false
   },
   "outputs": [],
   "source": [
    "# # Import additional libraries\n",
    "# from os import listdir\n",
    "# from os.path import isfile, join\n",
    "# import numpy as np\n",
    "# import matplotlib.pyplot as plt\n",
    "# %matplotlib inline\n",
    "\n",
    "# # Get the file names from a given directory\n",
    "# file_dir = 'data' # Set this to where your JSON saved\n",
    "# onlyfiles = [ f for f in listdir(file_dir) if isfile(join(file_dir,f)) and not f.startswith('.')]\n",
    "\n",
    "# # Initialize some lists to store the points, and the ids of the tweets\n",
    "# ids = []\n",
    "# all_pts = []\n",
    "# # Loop through all the files\n",
    "# for file in onlyfiles:\n",
    "#     full_dir = join(file_dir,file)\n",
    "#     # Open the JSON\n",
    "#     with open(full_dir) as f:\n",
    "#         data = f.read()\n",
    "#         # Load the JSON as a dict\n",
    "#         dict = json.loads(data)\n",
    "#         # Only add the unique tweets to the list\n",
    "#         if not isinstance(dict, list):\n",
    "#             for key, val in dict.iteritems():\n",
    "#                 if key not in ids:\n",
    "#                     ids.append(key)\n",
    "#                     lat = val['lat']\n",
    "#                     lon = val['lon']\n",
    "#                     all_pts.append([lat,lon])\n",
    "# pts = np.array(all_pts)\n",
    "# pts\n"
   ]
  },
  {
   "cell_type": "markdown",
   "metadata": {},
   "source": [
    "### 5. Plot some Tweets\n",
    "We can use **matplotlib** to visualize some tweets."
   ]
  },
  {
   "cell_type": "code",
   "execution_count": null,
   "metadata": {
    "collapsed": false
   },
   "outputs": [],
   "source": [
    "# Use a scatter plot to make a quick visualization of the data points\n",
    "# plt.scatter(pts[:,0], pts[:,1])"
   ]
  },
  {
   "cell_type": "markdown",
   "metadata": {},
   "source": [
    "Lets make sure that we don't get tweets plotted more than once. How would you make sure to only plot unique tweets? We can maybe:\n",
    "\n",
    "* Construct a list with unique id's\n",
    "* Only add the tweets to the `numpy.array` if the tweet doesn't exist in the list."
   ]
  },
  {
   "cell_type": "markdown",
   "metadata": {
    "collapsed": true
   },
   "source": [
    "### Problem Set - Extend What you Learned\n",
    "\n",
    "Now that you know how to scrape data let's extend the exercise a little so you can show us what you know. This time you will set up the scraper to get data around MIT and scrap data for 15 minutes and visualize. Think about what you would need to change to do that. \n",
    "\n",
    "Once you have the new json file of Boston tweets you should make a new array so that you can make a new scatter plot of your Boston tweets. When you make this new array you should get at least two different attributes returned by the Twitter api. One of them should be the tweet id. Make sure you remove and duplicate tweets (if any). Plot the tweets with different colors (use lat/long to determine the colors) using the scatter plot tool. Then save the data to a CSV.\n",
    "\n",
    "Make sure you get your own Twitter Key.\n",
    "\n",
    "#### Deliverables\n",
    "\n",
    "**1** - Collect Tweets from Boston for 15 min. Note how you set the time in the above example, it was in seconds. How would you do that here? \n",
    "\n",
    "**2** - Plot your tweets using matplotlib.\n",
    "\n",
    "**3** - Change colors based on lat/long position.\n",
    "\n",
    "**4** - Save your array CSV file. We will be checking this CSV file for duplicates. So clean your file.  \n",
    "\n",
    "### What to Give Us on Stellar \n",
    "\n",
    "1 - Iphython notebook of your scrapper, which includes your scattterplot.\n",
    "\n",
    "2 - Your final CSV file. \n",
    "\n",
    "### Bonus # 1\n",
    "\n",
    "Bonus  -- Do the orginally planned assignment now titled Bonus. If you do the whole thing you get a free homework assignment. If  you do parts of it you will get points to future assignments. \n"
   ]
  },
  {
   "cell_type": "code",
   "execution_count": 3,
   "metadata": {
    "collapsed": false
   },
   "outputs": [],
   "source": [
    "import json\n",
    "import time\n",
    "import threading\n",
    "\n",
    "from datetime import datetime\n",
    "from twython import Twython\n",
    "\n",
    "# Imports the keys from the python file\n",
    "from twitter_key import t_key, t_secret\n",
    "# Assigns the keys to the variables\n",
    "APP_KEY = t_key\n",
    "APP_SECRET = t_secret\n",
    "\n",
    "# Setup a Lat Lon\n",
    "latlong = [42.3598, -71.0921]\n",
    "\n",
    "''' Fetches tweets with a given query at a given lat-long.'''\n",
    "def get_tweets( latlong=None ):\n",
    "    # Creates a Twithon object with the given keys\n",
    "    twitter = Twython( APP_KEY, APP_SECRET )\n",
    "    # Uses the search function to hit the APIs endpoints and look for recent tweets within the area\n",
    "    results = twitter.search( geocode=','.join([ str(x) for x in latlong ]) + ',15km', result_type='recent', count=10000)\n",
    "    # Returns the only the statuses from the resulting JSON\n",
    "    return results['statuses']"
   ]
  },
  {
   "cell_type": "code",
   "execution_count": 19,
   "metadata": {
    "collapsed": true
   },
   "outputs": [],
   "source": [
    "\"\"\" Does pretty much what its long name suggests. \"\"\"\n",
    "def get_lots_of_tweets( latlong ):\n",
    "    # Create a dictionary to parse the JSON\n",
    "    all_tweets = {}\n",
    "    \n",
    "    # We will be hitting the API a number of times within the total time\n",
    "    total_time = 900\n",
    "    # Everytime we hit the API we subtract time from the total\n",
    "    remaining_seconds = total_time\n",
    "    interval = 60 \n",
    "    while remaining_seconds > 0:\n",
    "        added = 0\n",
    "        # We hit the Twitter API\n",
    "        new_tweets = get_tweets( latlong )\n",
    "        # We parse the resulting JSON, and save the rest of the raw content\n",
    "        for tweet in new_tweets:\n",
    "            tid = tweet['id']\n",
    "            if tid not in all_tweets and tweet['coordinates'] != None:\n",
    "                properties = {}\n",
    "                properties['lat'] = tweet['coordinates']['coordinates'][1]\n",
    "                properties['lon'] = tweet['coordinates']['coordinates'][0]\n",
    "                properties['tweet_id'] = tid\n",
    "                properties['content'] = tweet['text']\n",
    "                properties['user'] = tweet['user']['id']\n",
    "                properties['user_location'] = tweet['user']['location']\n",
    "                properties['raw_source'] = tweet\n",
    "                properties['data_point'] = 'none'\n",
    "                properties['time'] = tweet['created_at']\n",
    "                all_tweets[ tid ] = properties\n",
    "                added += 1\n",
    "        print \"At %d seconds, added %d new tweets, for a total of %d\" % ( total_time - remaining_seconds, added, len( all_tweets ) )\n",
    "        # We wait a few seconds and hit the API again\n",
    "        time.sleep(interval)\n",
    "        remaining_seconds -= interval\n",
    "    # We return the final dictionary\n",
    "    return all_tweets"
   ]
  },
  {
   "cell_type": "code",
   "execution_count": 20,
   "metadata": {
    "collapsed": false
   },
   "outputs": [
    {
     "name": "stdout",
     "output_type": "stream",
     "text": [
      "At 0 seconds, added 91 new tweets, for a total of 91\n",
      "At 60 seconds, added 1 new tweets, for a total of 92\n",
      "At 120 seconds, added 1 new tweets, for a total of 93\n",
      "At 180 seconds, added 3 new tweets, for a total of 96\n",
      "At 240 seconds, added 3 new tweets, for a total of 99\n",
      "At 300 seconds, added 1 new tweets, for a total of 100\n",
      "At 360 seconds, added 2 new tweets, for a total of 102\n",
      "At 420 seconds, added 4 new tweets, for a total of 106\n",
      "At 480 seconds, added 0 new tweets, for a total of 106\n",
      "At 540 seconds, added 2 new tweets, for a total of 108\n",
      "At 600 seconds, added 2 new tweets, for a total of 110\n",
      "At 660 seconds, added 2 new tweets, for a total of 112\n",
      "At 720 seconds, added 4 new tweets, for a total of 116\n",
      "At 780 seconds, added 1 new tweets, for a total of 117\n",
      "At 840 seconds, added 6 new tweets, for a total of 123\n"
     ]
    }
   ],
   "source": [
    "'''This function executes the rest of the functions over a given period of time'''\n",
    "def run():\n",
    "    # This is the number of times the code will be executed. In this case, just once. \n",
    "    starting = 1\n",
    "    while starting > 0:\n",
    "        # Sometimes the API returns some errors, killing the whole script, so we setup try/except to make sure it keeps running\n",
    "        try:\n",
    "            # We define a centroid in Boston\n",
    "            latlong = [42.3598, -71.0921]\n",
    "            t = get_lots_of_tweets( latlong )\n",
    "            # We name every file with the current time\n",
    "            timestr = time.strftime(\"%Y%m%d-%H%M%S\")\n",
    "            # We write a new JSON into the target path\n",
    "            with open( '%stweets.json' %(timestr), 'w' ) as f:\n",
    "                f.write( json.dumps(t))\n",
    "            # we can use a library like threading to execute the run function continuously.\n",
    "            #threading.Timer(10, run).start()\n",
    "            starting -= 1\n",
    "        except:\n",
    "            pass    \n",
    "run()"
   ]
  },
  {
   "cell_type": "code",
   "execution_count": 1,
   "metadata": {
    "collapsed": false
   },
   "outputs": [
    {
     "data": {
      "text/plain": [
       "array([[  7.04386393e+17,   4.23563860e+01,  -7.10692658e+01],\n",
       "       [  7.04379007e+17,   4.23028239e+01,  -7.11864397e+01],\n",
       "       [  7.04389928e+17,   4.23764852e+01,  -7.12356113e+01],\n",
       "       [  7.04381753e+17,   4.23582245e+01,  -7.10541678e+01],\n",
       "       [  7.04384218e+17,   4.23641891e+01,  -7.10519485e+01],\n",
       "       [  7.04389933e+17,   4.23016305e+01,  -7.10676050e+01],\n",
       "       [  7.04383580e+17,   4.23561410e+01,  -7.10580940e+01],\n",
       "       [  7.04389672e+17,   4.23578196e+01,  -7.10543122e+01],\n",
       "       [  7.04387317e+17,   4.23584308e+01,  -7.10597732e+01],\n",
       "       [  7.04380544e+17,   4.23584308e+01,  -7.10597732e+01],\n",
       "       [  7.04384944e+17,   4.23561185e+01,  -7.10552516e+01],\n",
       "       [  7.04382573e+17,   4.23643046e+01,  -7.10539740e+01],\n",
       "       [  7.04384938e+17,   4.23650000e+01,  -7.11036111e+01],\n",
       "       [  7.04388764e+17,   4.23584308e+01,  -7.10597732e+01],\n",
       "       [  7.04381817e+17,   4.23642000e+01,  -7.10615000e+01],\n",
       "       [  7.04385367e+17,   4.23726399e+01,  -7.11096528e+01],\n",
       "       [  7.04382670e+17,   4.23447190e+01,  -7.11258830e+01],\n",
       "       [  7.04383352e+17,   4.23370413e+01,  -7.12092214e+01],\n",
       "       [  7.04383913e+17,   4.23578000e+01,  -7.10617000e+01],\n",
       "       [  7.04388210e+17,   4.23584308e+01,  -7.10597732e+01],\n",
       "       [  7.04380304e+17,   4.23584308e+01,  -7.10597732e+01],\n",
       "       [  7.04384754e+17,   4.23584308e+01,  -7.10597732e+01],\n",
       "       [  7.04381294e+17,   4.23764852e+01,  -7.12356113e+01],\n",
       "       [  7.04385382e+17,   4.23591464e+01,  -7.10494638e+01],\n",
       "       [  7.04385548e+17,   4.23584308e+01,  -7.10597732e+01],\n",
       "       [  7.04381936e+17,   4.23642000e+01,  -7.10615000e+01],\n",
       "       [  7.04389467e+17,   4.23584308e+01,  -7.10597732e+01],\n",
       "       [  7.04390067e+17,   4.23584308e+01,  -7.10597732e+01],\n",
       "       [  7.04386104e+17,   4.23584308e+01,  -7.10597732e+01],\n",
       "       [  7.04387788e+17,   4.22931469e+01,  -7.12319913e+01],\n",
       "       [  7.04380503e+17,   4.23608367e+01,  -7.10663574e+01],\n",
       "       [  7.04384837e+17,   4.23584308e+01,  -7.10597732e+01],\n",
       "       [  7.04384933e+17,   4.23561185e+01,  -7.10552516e+01],\n",
       "       [  7.04379319e+17,   4.23584308e+01,  -7.10597732e+01],\n",
       "       [  7.04380623e+17,   4.23641010e+01,  -7.10049970e+01],\n",
       "       [  7.04380636e+17,   4.23584308e+01,  -7.10597732e+01],\n",
       "       [  7.04389214e+17,   4.23561185e+01,  -7.10552516e+01],\n",
       "       [  7.04389085e+17,   4.23584308e+01,  -7.10597732e+01],\n",
       "       [  7.04381391e+17,   4.23522987e+01,  -7.10657272e+01],\n",
       "       [  7.04383964e+17,   4.23584308e+01,  -7.10597732e+01],\n",
       "       [  7.04385630e+17,   4.23764400e+01,  -7.12353200e+01],\n",
       "       [  7.04379594e+17,   4.23720800e+01,  -7.11014600e+01],\n",
       "       [  7.04388201e+17,   4.23613114e+01,  -7.10482911e+01],\n",
       "       [  7.04382534e+17,   4.23002090e+01,  -7.11130066e+01],\n",
       "       [  7.04389977e+17,   4.23584308e+01,  -7.10597732e+01],\n",
       "       [  7.04380076e+17,   4.22528772e+01,  -7.10022705e+01],\n",
       "       [  7.04383723e+17,   4.23584308e+01,  -7.10597732e+01],\n",
       "       [  7.04384007e+17,   4.23555360e+01,  -7.11331010e+01],\n",
       "       [  7.04390115e+17,   4.23584308e+01,  -7.10597732e+01],\n",
       "       [  7.04388175e+17,   4.22606000e+01,  -7.10059000e+01],\n",
       "       [  7.04388674e+17,   4.23584308e+01,  -7.10597732e+01],\n",
       "       [  7.04382042e+17,   4.23584308e+01,  -7.10597732e+01],\n",
       "       [  7.04380877e+17,   4.23584308e+01,  -7.10597732e+01],\n",
       "       [  7.04385810e+17,   4.23727778e+01,  -7.11291667e+01],\n",
       "       [  7.04389208e+17,   4.23561185e+01,  -7.10552516e+01],\n",
       "       [  7.04383404e+17,   4.23584308e+01,  -7.10597732e+01],\n",
       "       [  7.04387416e+17,   4.24473174e+01,  -7.12245003e+01],\n",
       "       [  7.04387317e+17,   4.23584308e+01,  -7.10597732e+01],\n",
       "       [  7.04385910e+17,   4.23507329e+01,  -7.11083086e+01],\n",
       "       [  7.04382656e+17,   4.23726399e+01,  -7.11096528e+01],\n",
       "       [  7.04387507e+17,   4.23530680e+01,  -7.10765188e+01],\n",
       "       [  7.04385179e+17,   4.24184296e+01,  -7.11061639e+01],\n",
       "       [  7.04379779e+17,   4.23474200e+01,  -7.10956950e+01],\n",
       "       [  7.04381483e+17,   4.23584308e+01,  -7.10597732e+01],\n",
       "       [  7.04379645e+17,   4.24084300e+01,  -7.10536625e+01],\n",
       "       [  7.04386118e+17,   4.23584308e+01,  -7.10597732e+01],\n",
       "       [  7.04382621e+17,   4.22656300e+01,  -7.11204400e+01],\n",
       "       [  7.04389054e+17,   4.23584308e+01,  -7.10597732e+01],\n",
       "       [  7.04380698e+17,   4.23584308e+01,  -7.10597732e+01],\n",
       "       [  7.04379701e+17,   4.24286907e+01,  -7.12280234e+01],\n",
       "       [  7.04386901e+17,   4.23584308e+01,  -7.10597732e+01],\n",
       "       [  7.04380225e+17,   4.23464868e+01,  -7.10832041e+01],\n",
       "       [  7.04387982e+17,   4.23464422e+01,  -7.10971914e+01],\n",
       "       [  7.04387184e+17,   4.23043862e+01,  -7.11212778e+01],\n",
       "       [  7.04381626e+17,   4.23584308e+01,  -7.10597732e+01],\n",
       "       [  7.04383392e+17,   4.23584308e+01,  -7.10597732e+01],\n",
       "       [  7.04384561e+17,   4.24203127e+01,  -7.09859535e+01],\n",
       "       [  7.04383585e+17,   4.23584308e+01,  -7.10597732e+01],\n",
       "       [  7.04383576e+17,   4.23726399e+01,  -7.11096528e+01],\n",
       "       [  7.04379029e+17,   4.23750000e+01,  -7.10391667e+01],\n",
       "       [  7.04386437e+17,   4.23584308e+01,  -7.10597732e+01],\n",
       "       [  7.04381817e+17,   4.23764852e+01,  -7.12356113e+01],\n",
       "       [  7.04385361e+17,   4.23726399e+01,  -7.11096528e+01],\n",
       "       [  7.04383776e+17,   4.24184296e+01,  -7.11061639e+01],\n",
       "       [  7.04389994e+17,   4.23522150e+01,  -7.10590590e+01],\n",
       "       [  7.04381419e+17,   4.23533474e+01,  -7.10702570e+01],\n",
       "       [  7.04382660e+17,   4.23726399e+01,  -7.11096528e+01],\n",
       "       [  7.04379212e+17,   4.23653030e+01,  -7.10609090e+01],\n",
       "       [  7.04387416e+17,   4.23584308e+01,  -7.10597732e+01],\n",
       "       [  7.04384071e+17,   4.24038892e+01,  -7.10808840e+01],\n",
       "       [  7.04380841e+17,   4.23705000e+01,  -7.10302000e+01],\n",
       "       [  7.04388064e+17,   4.23465570e+01,  -7.10431700e+01],\n",
       "       [  7.04380815e+17,   4.24792618e+01,  -7.11522765e+01],\n",
       "       [  7.04384525e+17,   4.23509491e+01,  -7.10697380e+01],\n",
       "       [  7.04383258e+17,   4.23517272e+01,  -7.10408624e+01],\n",
       "       [  7.04386197e+17,   4.23377967e+01,  -7.10705763e+01],\n",
       "       [  7.04380131e+17,   4.23307000e+01,  -7.11336000e+01],\n",
       "       [  7.04380818e+17,   4.23584308e+01,  -7.10597732e+01],\n",
       "       [  7.04383777e+17,   4.23726399e+01,  -7.11096528e+01],\n",
       "       [  7.04384426e+17,   4.23584308e+01,  -7.10597732e+01],\n",
       "       [  7.04380582e+17,   4.24021585e+01,  -7.12340754e+01],\n",
       "       [  7.04389556e+17,   4.23486375e+01,  -7.10960839e+01],\n",
       "       [  7.04379005e+17,   4.23651648e+01,  -7.10186737e+01],\n",
       "       [  7.04383308e+17,   4.23726399e+01,  -7.11096528e+01],\n",
       "       [  7.04383282e+17,   4.23561470e+01,  -7.10581040e+01],\n",
       "       [  7.04381061e+17,   4.22417653e+01,  -7.11661640e+01],\n",
       "       [  7.04381397e+17,   4.23500177e+01,  -7.10574723e+01],\n",
       "       [  7.04384151e+17,   4.23337700e+01,  -7.11191900e+01],\n",
       "       [  7.04380550e+17,   4.23584308e+01,  -7.10597732e+01],\n",
       "       [  7.04386307e+17,   4.23586831e+01,  -7.10707027e+01],\n",
       "       [  7.04379243e+17,   4.23372353e+01,  -7.10981981e+01],\n",
       "       [  7.04389466e+17,   4.23584308e+01,  -7.10597732e+01],\n",
       "       [  7.04384946e+17,   4.23561185e+01,  -7.10552516e+01],\n",
       "       [  7.04384657e+17,   4.23584308e+01,  -7.10597732e+01],\n",
       "       [  7.04384938e+17,   4.23561185e+01,  -7.10552516e+01],\n",
       "       [  7.04388303e+17,   4.24084300e+01,  -7.10536625e+01],\n",
       "       [  7.04378956e+17,   4.23584308e+01,  -7.10597732e+01],\n",
       "       [  7.04382272e+17,   4.23485422e+01,  -7.10825835e+01],\n",
       "       [  7.04381357e+17,   4.23584308e+01,  -7.10597732e+01],\n",
       "       [  7.04386666e+17,   4.23584308e+01,  -7.10597732e+01],\n",
       "       [  7.04385297e+17,   4.23797607e+01,  -7.10964508e+01],\n",
       "       [  7.04389473e+17,   4.22531000e+01,  -7.10750000e+01],\n",
       "       [  7.04381450e+17,   4.23600825e+01,  -7.10588801e+01]])"
      ]
     },
     "execution_count": 1,
     "metadata": {},
     "output_type": "execute_result"
    }
   ],
   "source": [
    "\n",
    "# Import additional libraries\n",
    "import json\n",
    "from os import listdir\n",
    "from os.path import isfile, join\n",
    "import numpy as np\n",
    "import matplotlib.pyplot as plt\n",
    "%matplotlib inline\n",
    "\n",
    "# Get the file names from a given directory\n",
    "file_dir = 'data' # Set this to where your JSON saved\n",
    "onlyfiles = [ f for f in listdir(file_dir) if isfile(join(file_dir,f)) and not f.startswith('.')]\n",
    "\n",
    "# Initialize some lists to store the points, and the ids of the tweets\n",
    "ids = []\n",
    "all_pts = []\n",
    "# Loop through all the files\n",
    "for file in onlyfiles:\n",
    "    full_dir = join(file_dir,file)\n",
    "    # Open the JSON\n",
    "    with open(full_dir) as f:\n",
    "        data = f.read()\n",
    "        # Load the JSON as a dict\n",
    "        dict = json.loads(data)\n",
    "        # Only add the unique tweets to the list\n",
    "        if not isinstance(dict, list):\n",
    "            for key, val in dict.iteritems():\n",
    "                if key not in ids:\n",
    "                    ids.append(key)\n",
    "                    key = val['tweet_id']\n",
    "                    lat = val['lat']\n",
    "                    lon = val['lon']\n",
    "                    all_pts.append([key,lat,lon])\n",
    "pts = np.array(all_pts)\n",
    "pts\n"
   ]
  },
  {
   "cell_type": "code",
   "execution_count": 8,
   "metadata": {
    "collapsed": false,
    "scrolled": true
   },
   "outputs": [
    {
     "data": {
      "text/plain": [
       "<matplotlib.text.Text at 0xacdb1d0>"
      ]
     },
     "execution_count": 8,
     "metadata": {},
     "output_type": "execute_result"
    },
    {
     "data": {
      "image/png": "[encoded data removed]",
      "text/plain": [
       "<matplotlib.figure.Figure at 0xac469b0>"
      ]
     },
     "metadata": {},
     "output_type": "display_data"
    }
   ],
   "source": [
    "# Use a scatter plot to make a quick visualization of the data points\n",
    "# plt.scatter(pts[:,1], pts[:,0])\n",
    "\n",
    "x = pts[:,2]\n",
    "y = pts[:,1]\n",
    "z = x * y\n",
    "\n",
    "scaled_z = (z - z.min()) / z.ptp()\n",
    "colors = plt.cm.terrain(scaled_z)\n",
    "\n",
    "plt.scatter(x, y, s=150, color=colors, linewidths=.4)\n",
    "plt.title('Metro Boston Tweets')\n",
    "plt.xlabel('Longitude')\n",
    "plt.ylabel('Latitude')"
   ]
  },
  {
   "cell_type": "code",
   "execution_count": 2,
   "metadata": {
    "collapsed": true
   },
   "outputs": [],
   "source": [
    "np.savetxt(\"Boston_tweets_kerr.csv\", pts, delimiter=',')"
   ]
  },
  {
   "cell_type": "code",
   "execution_count": null,
   "metadata": {
    "collapsed": true
   },
   "outputs": [],
   "source": []
  }
 ],
 "metadata": {
  "kernelspec": {
   "display_name": "Python 2",
   "language": "python",
   "name": "python2"
  },
  "language_info": {
   "codemirror_mode": {
    "name": "ipython",
    "version": 2
   },
   "file_extension": ".py",
   "mimetype": "text/x-python",
   "name": "python",
   "nbconvert_exporter": "python",
   "pygments_lexer": "ipython2",
   "version": "2.7.11"
  }
 },
 "nbformat": 4,
 "nbformat_minor": 0
}
