{
 "cells": [
  {
   "cell_type": "markdown",
   "metadata": {},
   "source": [
    "# Problem Set 1: Intro to Python\n",
    "This problem set is meant to create a good foundation of programming. We emphasize code readability and reusability over performance. Code performance can be measured in many different ways, and is by no means the focus of this course, however, we expect your code to be non-repetitive, clean, and efficient enough to deal with medium-to-large datasets. As we move forward with the course, you will be introduced to some functional programming techniques, iterators, and objects that will help speed-up the data munging of the type of data sets that we will be dealing with. \n",
    "\n",
    "`Throughout the course you will be using multiple online resources to help you solve the assignments, we do too. However, if you are using other people’s code, make sure to credit the source, and come up with your` **own** `implementation. You will be constantly running into places like` [Stack Overflow]( http://stackoverflow.com/)."
   ]
  },
  {
   "cell_type": "markdown",
   "metadata": {},
   "source": [
    "## 1. Lists\n",
    "Do the following:\n",
    "1. Create a list containing any 4 strings.\n",
    "2. Print the 3rd item in the list\n",
    "3. Print the 1st and 2nd item in the list using [:] index slicing.\n",
    "4. Add a new string with text “last” to the end of the list and print the list.\n",
    "5. Get the list length and print it.\n",
    "6. Replace the last item in the list with the string “new” and print\n"
   ]
  },
  {
   "cell_type": "code",
   "execution_count": 6,
   "metadata": {
    "collapsed": false
   },
   "outputs": [
    {
     "name": "stdout",
     "output_type": "stream",
     "text": [
      "Kerr\n",
      "['Cortni', 'Heather']\n",
      "['Cortni', 'Heather', 'Kerr', 'Desir', 'last']\n",
      "5\n",
      "['Cortni', 'Heather', 'Kerr', 'Desir', 'new']\n"
     ]
    }
   ],
   "source": [
    "L1 =['Cortni', 'Heather', 'Kerr', 'Desir']\n",
    "print L1[2]\n",
    "print L1[:2]\n",
    "L2 = L1 + ['last']\n",
    "print L2\n",
    "len (L2)\n",
    "print len(L2)\n",
    "L2[4] ='new'\n",
    "print L2\n",
    "\n",
    "\n"
   ]
  },
  {
   "cell_type": "markdown",
   "metadata": {},
   "source": [
    "## 2. Strings \n",
    "Given the following list of words:\n",
    "```Python\n",
    "list1=['I', 'am', 'learning','Python','to','munge','large','datasets','and','visualize','them']\n",
    "```\n",
    "1. Convert the list into a normal sentence with [`join()`](https://docs.python.org/2/library/stdtypes.html#str.join), then print.\n",
    "2. [**Reverse**](https://docs.python.org/release/2.3.5/whatsnew/section-slices.html) the order of this list `[“them”,”visualize”,…]`\n",
    "3. Now [**sort**](https://docs.python.org/2/library/functions.html#sorted) the list using the default sort order in python\n",
    "4. Modify the sort to do a case [**insensitive**](http://matthiaseisen.com/pp/patterns/p0005/) alphabetic sort\n",
    "5. Now print the list in reverse alphabetic sort order\n"
   ]
  },
  {
   "cell_type": "code",
   "execution_count": 7,
   "metadata": {
    "collapsed": false
   },
   "outputs": [
    {
     "name": "stdout",
     "output_type": "stream",
     "text": [
      "I am learning Python to munge large datasets and visualize them\n",
      "['them', 'visualize', 'and', 'datasets', 'large', 'munge', 'to', 'Python', 'learning', 'am', 'I']\n",
      "['am', 'and', 'datasets', 'I', 'large', 'learning', 'munge', 'Python', 'them', 'to', 'visualize']\n"
     ]
    }
   ],
   "source": [
    "list1=['I', 'am', 'learning','Python','to','munge','large','datasets','and','visualize','them']\n",
    "list1_str = ' '.join([str(mli) for mli in list1]) #credit to Stackoverlow 'http://stackoverflow.com/questions/12453580/concatenate-item-in-list-to-strings-python' \n",
    "print list1_str\n",
    "print list1[::-1]\n",
    "sorted(list1)\n",
    "list2 = sorted(list1, key=lambda x:x.lower()) #credit to 'http://matthiaseisen.com/pp/patterns/p0005/'\n",
    "print list2\n",
    "\n",
    "\n"
   ]
  },
  {
   "cell_type": "markdown",
   "metadata": {},
   "source": [
    "## 3. Random Function\n",
    "Here is a python snippet for generating a random integer:\n",
    "\n",
    "```Python\n",
    "import random\n",
    "# this returns random integer: 100 <= number <= 1000 \n",
    "num = random.randint(100, 1000)\n",
    "```\n",
    "\n",
    "* Implement your own random function that builds on this python function, returning an integer between a low and a high number supplied by the user, but that can be called with the low number optional (default to 0).\n",
    "\n",
    "* Test your function by adding the following 2 assert statements to your file (replace myrandom and low with the names you used). The [`assert`](https://docs.python.org/2/reference/simple_stmts.html#assert) statement helps you debug, by testing if a statement is true. \n",
    "\n",
    "```Python\n",
    "assert(0 <= myrandom(100) <= 100)\n",
    "assert(50 <= myrandom(100,low=50) <= 100)\n",
    "```\n",
    "\n",
    "\n",
    "1. Inputs: \n",
    "  1. Two `integers` that will be used as lower and upper bounds of the function. \n",
    "2. Outputs: \n",
    "  1. A random number within the established bounds. "
   ]
  },
  {
   "cell_type": "code",
   "execution_count": 25,
   "metadata": {
    "collapsed": false
   },
   "outputs": [
    {
     "data": {
      "text/plain": [
       "401"
      ]
     },
     "execution_count": 25,
     "metadata": {},
     "output_type": "execute_result"
    }
   ],
   "source": [
    "import random\n",
    "def myrandom(x=1000,y=0):\n",
    "    num= random.randint(y,x)\n",
    "    return num \n",
    "\n",
    "myrandom(405,400)"
   ]
  },
  {
   "cell_type": "code",
   "execution_count": 29,
   "metadata": {
    "collapsed": false
   },
   "outputs": [],
   "source": [
    "assert(0 <= myrandom(400) <= 400)\n",
    "assert(50 <= myrandom(400,y=50) <= 400)"
   ]
  },
  {
   "cell_type": "markdown",
   "metadata": {},
   "source": [
    "## 4. String Formatting Function \n",
    "Write a function that expects 2 inputs from the command line. The first is a title that may be multiple words, the second is a number. Given these inputs print the following string (replacing N and Title with the dynamic values passed in to the script each time it runs).\n",
    "\n",
    "`The number N bestseller today is: Title` \n",
    "\n",
    "* If not already title-cased, the function should **title-case** the string. \n",
    "* Build one function making the first input optional (keeping the 2nd required).\n",
    "* Build another function making the second input optional (keeping the 1st required).\n",
    "* Build a third function making both inputs optional."
   ]
  },
  {
   "cell_type": "code",
   "execution_count": 41,
   "metadata": {
    "collapsed": false
   },
   "outputs": [
    {
     "name": "stdout",
     "output_type": "stream",
     "text": [
      "The number 12 bestseller today is: Life Is Numbers\n",
      "The number 1 bestseller today is: Life Is Numbers\n"
     ]
    }
   ],
   "source": [
    "# #I am lost here, below is my unsuccessful attempt \n",
    "import random\n",
    "N = random.randint(1,20)\n",
    "list3=[\"The Sun Also Rises\", \"A Random Book Title\", \"Life is Numbers\", \"War and Peace\", \"Crazy Book Title\"] \n",
    "Title = list3\n",
    "i = random.randint(0,4)\n",
    "\n",
    "\n",
    "def strmaker(N,Title,i):\n",
    "    S = \"The number \" + str(N) + \" bestseller today is: \" + str(Title[i]).title()\n",
    "#     S = S.title()\n",
    "    return S\n",
    "    \n",
    "print strmaker(N,Title,i)\n",
    "\n",
    "def strmaker2(Title,i,N=1):\n",
    "    S = \"The number \" + str(N) + \" bestseller today is: \" + str(Title[i]).title()\n",
    "#     S = S.title()\n",
    "    return S\n",
    "    \n",
    "print strmaker2(Title,i)\n",
    "\n"
   ]
  },
  {
   "cell_type": "markdown",
   "metadata": {},
   "source": [
    "## 5. Password Validation Function \n",
    "Write a password validation function. Ask the user to input a password that meets the criteria listed below. You can either use the **Python** [`input`](https://docs.python.org/2/library/functions.html#input) built-in function, or just pass the password as a function argument. Validate that the user’s password matches this criteria. After 3 bad tries, quit with an error message. If password is valid, print a helpful success message.\n",
    "\n",
    "* password length must be 8-14 characters\n",
    "* password must contain at least 2 digits\n",
    "* password must contain at least 1 uppercase letter\n",
    "* password must contain at least 1 special character from this set !@#$%^&*()-_+=\n",
    "\n",
    "\n",
    "\n",
    "1. Inputs: \n",
    "  1. A `string` that will be tested for the password requirements. The string can be passed as an argument to the function, or as an input through the `input` function.\n",
    "2. Outputs: \n",
    "  1. A **success** message if the password works, otherwise an **error** message. \n"
   ]
  },
  {
   "cell_type": "code",
   "execution_count": 42,
   "metadata": {
    "collapsed": false,
    "scrolled": true
   },
   "outputs": [
    {
     "name": "stdout",
     "output_type": "stream",
     "text": [
      "Let's make a password\n",
      "1. password length must be 8-14 characters\n",
      "2. password must contain at least 2 digits\n",
      "3. password must contain at least 1 uppercase letter\n",
      "4. password must contain at least 1 special character from this set !@#$%^&*()-_+=\n",
      "Enter password below\n",
      "Cat\n"
     ]
    },
    {
     "ename": "NameError",
     "evalue": "name 'Cat' is not defined",
     "output_type": "error",
     "traceback": [
      "\u001b[1;31m---------------------------------------------------------------------------\u001b[0m",
      "\u001b[1;31mNameError\u001b[0m                                 Traceback (most recent call last)",
      "\u001b[1;32m<ipython-input-42-a4b72a0f5d5a>\u001b[0m in \u001b[0;36m<module>\u001b[1;34m()\u001b[0m\n\u001b[0;32m      7\u001b[0m \u001b[1;33m\u001b[0m\u001b[0m\n\u001b[0;32m      8\u001b[0m \u001b[1;32mprint\u001b[0m \u001b[1;34m\"Enter password below\"\u001b[0m\u001b[1;33m\u001b[0m\u001b[0m\n\u001b[1;32m----> 9\u001b[1;33m \u001b[0mpw\u001b[0m \u001b[1;33m=\u001b[0m \u001b[0minput\u001b[0m\u001b[1;33m(\u001b[0m\u001b[1;33m)\u001b[0m\u001b[1;33m\u001b[0m\u001b[0m\n\u001b[0m\u001b[0;32m     10\u001b[0m \u001b[1;33m\u001b[0m\u001b[0m\n\u001b[0;32m     11\u001b[0m \u001b[1;31m# caps = sum(1 for c in pw if c.isupper())\u001b[0m\u001b[1;33m\u001b[0m\u001b[1;33m\u001b[0m\u001b[0m\n",
      "\u001b[1;32mC:\\Users\\Cortni\\Anaconda2\\lib\\site-packages\\ipykernel\\ipkernel.pyc\u001b[0m in \u001b[0;36m<lambda>\u001b[1;34m(prompt)\u001b[0m\n\u001b[0;32m    139\u001b[0m             \u001b[0mself\u001b[0m\u001b[1;33m.\u001b[0m\u001b[0m_sys_eval_input\u001b[0m \u001b[1;33m=\u001b[0m \u001b[0mbuiltin_mod\u001b[0m\u001b[1;33m.\u001b[0m\u001b[0minput\u001b[0m\u001b[1;33m\u001b[0m\u001b[0m\n\u001b[0;32m    140\u001b[0m             \u001b[0mbuiltin_mod\u001b[0m\u001b[1;33m.\u001b[0m\u001b[0mraw_input\u001b[0m \u001b[1;33m=\u001b[0m \u001b[0mself\u001b[0m\u001b[1;33m.\u001b[0m\u001b[0mraw_input\u001b[0m\u001b[1;33m\u001b[0m\u001b[0m\n\u001b[1;32m--> 141\u001b[1;33m             \u001b[0mbuiltin_mod\u001b[0m\u001b[1;33m.\u001b[0m\u001b[0minput\u001b[0m \u001b[1;33m=\u001b[0m \u001b[1;32mlambda\u001b[0m \u001b[0mprompt\u001b[0m\u001b[1;33m=\u001b[0m\u001b[1;34m''\u001b[0m\u001b[1;33m:\u001b[0m \u001b[0meval\u001b[0m\u001b[1;33m(\u001b[0m\u001b[0mself\u001b[0m\u001b[1;33m.\u001b[0m\u001b[0mraw_input\u001b[0m\u001b[1;33m(\u001b[0m\u001b[0mprompt\u001b[0m\u001b[1;33m)\u001b[0m\u001b[1;33m)\u001b[0m\u001b[1;33m\u001b[0m\u001b[0m\n\u001b[0m\u001b[0;32m    142\u001b[0m         \u001b[0mself\u001b[0m\u001b[1;33m.\u001b[0m\u001b[0m_save_getpass\u001b[0m \u001b[1;33m=\u001b[0m \u001b[0mgetpass\u001b[0m\u001b[1;33m.\u001b[0m\u001b[0mgetpass\u001b[0m\u001b[1;33m\u001b[0m\u001b[0m\n\u001b[0;32m    143\u001b[0m         \u001b[0mgetpass\u001b[0m\u001b[1;33m.\u001b[0m\u001b[0mgetpass\u001b[0m \u001b[1;33m=\u001b[0m \u001b[0mself\u001b[0m\u001b[1;33m.\u001b[0m\u001b[0mgetpass\u001b[0m\u001b[1;33m\u001b[0m\u001b[0m\n",
      "\u001b[1;32mC:\\Users\\Cortni\\Anaconda2\\lib\\site-packages\\ipykernel\\ipkernel.pyc\u001b[0m in \u001b[0;36m<module>\u001b[1;34m()\u001b[0m\n",
      "\u001b[1;31mNameError\u001b[0m: name 'Cat' is not defined"
     ]
    }
   ],
   "source": [
    "#Again, I was lost here. Below is my attempt \n",
    "\n",
    "def validation:\n",
    "    symbols = []\n",
    "\n",
    "\n",
    "caps = sum(1 for c in pw if c.isupper())\n",
    "nums = sum(1 for c in pw if c.isnumeric())\n",
    "\n",
    "if len(pw) < 8:\n",
    "    print \"Your password is too short.\"\n",
    "elif len(pw) >14:\n",
    "    print \"Your password is too long.\"\n",
    "    \n",
    "# if caps >= 1:\n",
    "#     if nums >= 2:\n",
    "#         print \"You password meets the requirements.\"\n",
    "\n",
    "#     elif nums < 2:\n",
    "#         print \"Your password doesn't have 2 digits.\"\n",
    "        \n",
    "# elif caps < 1:\n",
    "#     print \"Your password needs a capital letter.\"\n",
    "    \n",
    "# if re.search('!,@,#,$,%,^,&,*,(,),_,+,-,=,]',pw):\n",
    "#     print \"Your password contains a special character, good job.\"\n",
    "# #Not sure how to write elseif statement here\n",
    "    \n",
    "# Credit to http://codereview.stackexchange.com/questions/33262/password-checker-containing-many-conditional-statements\n",
    "\n",
    "def validation(pw, runtime):\n",
    "    symbols = \"!@#$%^&*()-_+=\"\n",
    "    caps = pw.i\n",
    "    if runtime <3:\n",
    "    if len(pw) >7 & len(pw) <16:\n",
    "    if \n",
    "        uppercase\n",
    "        \n",
    "        twodigits\n",
    "        symbols\n",
    "        len\n",
    "    \n",
    "print \"Let's make a password\"\n",
    "print \"1. password length must be 8-14 characters\"\n",
    "print \"2. password must contain at least 2 digits\"\n",
    "print \"3. password must contain at least 1 uppercase letter\"\n",
    "print \"4. password must contain at least 1 special character from this set !@#$%^&*()-_+=\"\n",
    "\n",
    "print \"Enter password below\"\n",
    "pw = input()\n",
    "runtime = 0\n",
    "    "
   ]
  },
  {
   "cell_type": "markdown",
   "metadata": {},
   "source": [
    "## 6. Exponentiation Function\n",
    "Create a function called **exp** that asks for two digits and then prints an exponentiation, without using the exponentiation operator (`**`). You may assume these are positive integers. Use at least one custom-defined function.\n",
    "\n",
    "For example, some outputs of this function could be:\n",
    "* 2 , 3 => 8\n",
    "* 5 , 4 => 625\n",
    "\n",
    "1. Inputs: \n",
    "  1. An `integer` that will be recursively multiplied\n",
    "  2. An `integer` that will define the number of times to multiply the number to get the exponentiation.\n",
    "2. Outputs: \n",
    "  1. An `integer` that is the result of the exponentiation. \n",
    "\n",
    "`Hint: You can recursively multiply a number. The second number defines the number of times the recursive loop happens. Every time the loop happens, you can redefine the variable that gets multiplied.` "
   ]
  },
  {
   "cell_type": "code",
   "execution_count": 43,
   "metadata": {
    "collapsed": false
   },
   "outputs": [
    {
     "name": "stdout",
     "output_type": "stream",
     "text": [
      "Please enter an integer: 4\n",
      "Please enter another integer: 2\n"
     ]
    },
    {
     "data": {
      "text/plain": [
       "16.0"
      ]
     },
     "execution_count": 43,
     "metadata": {},
     "output_type": "execute_result"
    }
   ],
   "source": [
    "# raw_input gives a string whereas input only will try to run a python function \n",
    "#so better! \n",
    "\n",
    "import math\n",
    "x = int(raw_input(\"Please enter an integer: \"))\n",
    "if x < 0:\n",
    "    x = 0\n",
    "    print 'Negative changed to zero'\n",
    "\n",
    "y = int(raw_input(\"Please enter another integer: \"))\n",
    "if y < 0:\n",
    "    y = 0\n",
    "    print 'Negative changed to zero'\n",
    "    \n",
    "math.pow(x, y) # equivalent to x ^ y\n",
    "#Credit http://stackoverflow.com/questions/12037585/creating-a-exponential-function-in-python\n"
   ]
  },
  {
   "cell_type": "code",
   "execution_count": null,
   "metadata": {
    "collapsed": true
   },
   "outputs": [],
   "source": []
  },
  {
   "cell_type": "markdown",
   "metadata": {},
   "source": [
    "## 7. Min and Max Functions (BONUS Question)\n",
    "`If you successfully implement the function, you can skip 2 questions in one future pset.`\n",
    "\n",
    "Write your own versions of the Python built-in functions **min** and **max**. They should take a list as an argument and return the minimum or maximum element. Assume lists contain numeric items only. \n",
    "\n",
    "1. Inputs: \n",
    "  1. A `list` of `numbers` to be tested. \n",
    "2. Outputs: \n",
    "  1. A `number` of the list that is the maximum or minimum. \n",
    "\n",
    "`Hint: Pick the first element as the minimum(maximum) and then loop through the elements to find a smaller(larger) element. Each time you find a smaller (larger) element, update your minimum (maximum).`"
   ]
  },
  {
   "cell_type": "code",
   "execution_count": null,
   "metadata": {
    "collapsed": false
   },
   "outputs": [],
   "source": []
  },
  {
   "cell_type": "markdown",
   "metadata": {},
   "source": [
    "## 8. Hangman Game (BONUS Question)\n",
    "`If you successfully implement the function, you can skip 2 questions in one future pset.`\n",
    "\n",
    "Implement a basic hangman game through a function.\n",
    "* Show a user the word or phrase (5-15 letters) that they have to guess with dashes as placeholders for unsolved letters. You can hardcode this word into your source.\n",
    "* Prompt the user to guess a letter or solve the puzzle through the user [`input`](https://docs.python.org/2/library/functions.html#input) function. They get up to 8 guesses. After each guess, show the word with any instances of correctly guessed letters filled in. Show the number of tries left. Handle possible issues with user input in a consistent way.\n",
    "* Continue to prompt the user until either they’ve used up their 8 guesses or solved.\n",
    "* If they solve the puzzle in time, show the completed word and a congratulatory message.\n",
    "* If they fail to solve the puzzle, show the completed word and a Game Over message.\n",
    "\n",
    "\n",
    "Here’s a sample transcript.\n",
    "> You have 8 guesses to solve this word. \n",
    "\n",
    ">------------------------------------------   \n",
    "\n",
    ">guess a letter or solve: b \n",
    "\n",
    ">b--b--b--  (7 tries left) \n",
    "\n",
    ">guess a letter or solve: x \n",
    "\n",
    ">b--b--b--  (6 tries left) \n",
    "\n",
    ">guess a letter or solve: e \n",
    "\n",
    ">b--b-ebee  (5 tries left) \n",
    "\n",
    ">guess a letter or solve: bumblebee \n",
    "\n",
    ">bumblebee  (4 tries left) \n",
    "\n",
    ">Congratulations, you won!\n",
    "\n",
    "1. Inputs: \n",
    "  1. A `string` that will be tested to see whether or not it is part of the secret word. \n",
    "2. Outputs: \n",
    "  1. A message that shows the user the number of guessed letters at the time.\n",
    "  2. A **success** message if the user wins, otherwise a **try again** message. \n"
   ]
  },
  {
   "cell_type": "code",
   "execution_count": null,
   "metadata": {
    "collapsed": true
   },
   "outputs": [],
   "source": []
  }
 ],
 "metadata": {
  "kernelspec": {
   "display_name": "Python 2",
   "language": "python",
   "name": "python2"
  },
  "language_info": {
   "codemirror_mode": {
    "name": "ipython",
    "version": 2
   },
   "file_extension": ".py",
   "mimetype": "text/x-python",
   "name": "python",
   "nbconvert_exporter": "python",
   "pygments_lexer": "ipython2",
   "version": "2.7.11"
  }
 },
 "nbformat": 4,
 "nbformat_minor": 0
}
